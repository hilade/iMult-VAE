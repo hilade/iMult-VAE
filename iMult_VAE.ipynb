{
  "nbformat": 4,
  "nbformat_minor": 0,
  "metadata": {
    "kernelspec": {
      "name": "python3",
      "display_name": "Python 3"
    },
    "colab": {
      "name": "iMult_VAE.ipynb",
      "provenance": [],
      "collapsed_sections": [],
      "toc_visible": true,
      "machine_shape": "hm"
    },
    "accelerator": "GPU"
  },
  "cells": [
    {
      "cell_type": "markdown",
      "metadata": {
        "id": "sfuvbc4sL13s",
        "colab_type": "text"
      },
      "source": [
        "# RecSys - iMult-VAE on million songs dataset (MSD)"
      ]
    },
    {
      "cell_type": "markdown",
      "metadata": {
        "id": "hvZBYxvCQ886",
        "colab_type": "text"
      },
      "source": [
        "Teammates:\n",
        "\n",
        "*   Hila Delouya I.D. 302444534 \n",
        "*   Yarin Ozery I.D. 206829145"
      ]
    },
    {
      "cell_type": "markdown",
      "metadata": {
        "id": "5fzfO_byMyI4",
        "colab_type": "text"
      },
      "source": [
        "#### Imports"
      ]
    },
    {
      "cell_type": "code",
      "metadata": {
        "id": "6-suUHRNL13u",
        "colab_type": "code",
        "colab": {}
      },
      "source": [
        "import os\n",
        "import copy\n",
        "import shutil\n",
        "import sys\n",
        "import math\n",
        "import sqlite3\n",
        "import numbers\n",
        "import scipy\n",
        "import numpy as np\n",
        "import pandas as pd\n",
        "import seaborn as sn\n",
        "from tqdm import tqdm\n",
        "import bottleneck as bn\n",
        "from scipy import sparse\n",
        "import matplotlib.pyplot as plt\n",
        "from sklearn import preprocessing\n",
        "\n",
        "import tensorflow.compat.v1 as tf\n",
        "tf.disable_v2_behavior()\n",
        "from google.colab import drive\n",
        "from tensorflow.python import ops\n",
        "from tensorflow.python.ops import nn\n",
        "from tensorflow.python.ops import math_ops\n",
        "from tensorflow.python.ops import random_ops\n",
        "from tensorflow.python.ops import standard_ops\n",
        "from tensorflow.python.framework import constant_op\n",
        "from tensorflow.python.platform import tf_logging as logging\n",
        "sn.set()\n",
        "\n",
        "import matplotlib\n",
        "matplotlib.use('Agg')\n",
        "import matplotlib.pyplot as plt\n",
        "%matplotlib inline\n",
        "\n",
        "import tensorboard\n",
        "%load_ext tensorboard"
      ],
      "execution_count": null,
      "outputs": []
    },
    {
      "cell_type": "markdown",
      "metadata": {
        "id": "eAhbTW2yPpNx",
        "colab_type": "text"
      },
      "source": [
        "#### Functions"
      ]
    },
    {
      "cell_type": "code",
      "metadata": {
        "id": "jS3x7axIPtBD",
        "colab_type": "code",
        "colab": {}
      },
      "source": [
        "def get_count(tp, id):\n",
        "    \"\"\"\n",
        "    Returns a groupby table per col name with events count\n",
        "    Args:\n",
        "      tp: data frame\n",
        "      id: id col name to groupby\n",
        "    Returns:\n",
        "      A groupby table per col name with counted events.\n",
        "    \"\"\"\n",
        "    playcount_groupbyid = tp[[id]].groupby(id, as_index=False)\n",
        "    count = playcount_groupbyid.size()\n",
        "    return count\n",
        "\n",
        "def filter_triplets(tp, min_uc=20, min_sc=200):\n",
        "    \"\"\" \n",
        "    Function that filters songs and users based on thresholds\n",
        "    Args:\n",
        "      tp: data frame\n",
        "      min_uc: minimum number of songs a user interacted with\n",
        "      min_sc: minimum number of users that interacted with a song\n",
        "    Returns:\n",
        "      A fitered data frame based on thresholds\n",
        "    \"\"\"\n",
        "    # Only keep the triplets for items which were clicked on by at least min_sc users. \n",
        "    if min_sc > 0:\n",
        "        itemcount = get_count(tp, item_id)\n",
        "        tp = tp[tp[item_id].isin(itemcount.index[itemcount >= min_sc])]\n",
        "    \n",
        "    # Only keep the triplets for users who clicked on at least min_uc items\n",
        "    # After doing this, some of the items will have less than min_uc users, but should only be a small proportion\n",
        "    if min_uc > 0:\n",
        "        usercount = get_count(tp, user_id)\n",
        "        tp = tp[tp[user_id].isin(usercount.index[usercount >= min_uc])]\n",
        "    \n",
        "    # Update both usercount and itemcount after filtering\n",
        "    usercount, itemcount = get_count(tp, user_id), get_count(tp, item_id) \n",
        "    return tp, usercount, itemcount\n",
        "\n",
        "def split_train_test_proportion(data, min_items=5, test_prop=0.2):\n",
        "    \"\"\" Splits the data into train-test sets.\n",
        "    Args:\n",
        "      data:      data frame to be split\n",
        "      min_items: minimum number of items interactions required for a user\n",
        "                 in order to qualify for splitting his data (if there are\n",
        "                 fewer interactions, all his interactions are added to training\n",
        "                 set). \n",
        "      test_prop: proportion of user's interactions to be moved to test set,\n",
        "                 rest of the data will be in the training set. \n",
        "    Returns:\n",
        "      train-test splitted datasets of the input dataset \n",
        "    \"\"\"\n",
        "    data_grouped_by_user = data.groupby(user_id)\n",
        "    tr_list, te_list = list(), list()\n",
        "\n",
        "    np.random.seed(98765)\n",
        "\n",
        "    for i, (_, group) in enumerate(data_grouped_by_user):\n",
        "        n_items_u = len(group)\n",
        "\n",
        "        if n_items_u >= min_items:\n",
        "            idx = np.zeros(n_items_u, dtype='bool')\n",
        "            idx[np.random.choice(n_items_u, size=int(test_prop * n_items_u), replace=False).astype('int64')] = True\n",
        "\n",
        "            tr_list.append(group[np.logical_not(idx)])\n",
        "            te_list.append(group[idx])\n",
        "        else:\n",
        "            tr_list.append(group)\n",
        "\n",
        "        if i % 1000 == 0:\n",
        "            print(\"%d users sampled\" % i)\n",
        "            sys.stdout.flush()\n",
        "\n",
        "    data_tr = pd.concat(tr_list)\n",
        "    data_te = pd.concat(te_list)\n",
        "\n",
        "    return data_tr, data_te\n",
        "\n",
        "def numerize(tp, user_id, item_id):\n",
        "    \"\"\"\n",
        "    This function indexes user ids and songs ids\n",
        "    Args:\n",
        "      tp: Dataframe consisting of pairs of user_id, item_id, representing \n",
        "          user-item interaction in the dataset      \n",
        "      user_id: name of the user id column in tp\n",
        "      item_id: name of the item id column in tp\n",
        "    Returns:\n",
        "      An indexed version of the input interaction dataframe\n",
        "    \"\"\"\n",
        "    data = copy.deepcopy(tp)\n",
        "    data[user_id] = list(map(lambda x: profile2id[x], data[user_id]))\n",
        "    data[item_id] =  list(map(lambda x: show2id[x], data[item_id]))\n",
        "    return data\n",
        "\n",
        "def load_train_data(train_csv_file, user_id, item_id, n_items):\n",
        "    \"\"\"\n",
        "    This function loads the trainig data into a user-item interaction\n",
        "    sparse matrix between all users and items.\n",
        "    Args:\n",
        "      train_csv_file: csv file consisting of user-item interactions     \n",
        "      user_id: name of the user id column in tp\n",
        "      item_id: name of the item id column in tp\n",
        "      n_items: number of items in the entire dataset\n",
        "    Returns:\n",
        "      a sparse one-hot-encoded matrix, where for each row u and each column s\n",
        "      the cell data[u,s] = 1 if user u interacted with song s, otherwise,\n",
        "      data[u,s] = 0 \n",
        "    \"\"\"\n",
        "    tp = pd.read_csv(train_csv_file)\n",
        "    n_users = tp[user_id].max() + 1\n",
        "\n",
        "    rows, cols = tp[user_id], tp[item_id]\n",
        "    data = sparse.csr_matrix((np.ones_like(rows),\n",
        "                             (rows, cols)), dtype='float64',\n",
        "                             shape=(n_users, n_items))\n",
        "    \n",
        "    return data\n",
        "\n",
        "def load_tr_te_data(validation_tr_csv_file, validation_te_csv_file, user_id, item_id, n_items):\n",
        "    \"\"\"\n",
        "    This function loads the test dataset into a user-item interaction\n",
        "    sparse matrix between all users and items in the test set.\n",
        "    It differs from the previous function from the fact that the test set\n",
        "    itself was split into \"training-test\" sets where training set is used to\n",
        "    learn the necessary user-level representations for\n",
        "    the model and then compute metrics by looking at how well the\n",
        "    model ranks the rest of the interactions.\n",
        "    Args:\n",
        "      validation_tr_csv_file: csv file consisting of test sets user-item interactions,\n",
        "                              which is used for the \"training part\"\n",
        "      validation_te_csv_file: csv file consisting of test sets user-item interactions,\n",
        "                              which is used for the evaluation part.     \n",
        "      user_id: name of the user id column in tp\n",
        "      item_id: name of the item id column in tp\n",
        "      n_items: number of items in the entire dataset\n",
        "    Returns:\n",
        "      Two sparse one-hot-encoded matrices, where for each row u and each column s\n",
        "      the cell data[u,s] = 1 if user u interacted with song s, otherwise,\n",
        "      data[u,s] = 0, for each of the csv files\n",
        "    \"\"\"\n",
        "    tp_tr = pd.read_csv(validation_tr_csv_file)\n",
        "    tp_te = pd.read_csv(validation_te_csv_file)\n",
        "\n",
        "    start_idx = min(tp_tr[user_id].min(), tp_te[user_id].min())\n",
        "    end_idx = max(tp_tr[user_id].max(), tp_te[user_id].max())\n",
        "\n",
        "    rows_tr, cols_tr = tp_tr[user_id] - start_idx, tp_tr[item_id]\n",
        "    rows_te, cols_te = tp_te[user_id] - start_idx, tp_te[item_id]\n",
        "\n",
        "    data_tr = sparse.csr_matrix((np.ones_like(rows_tr),\n",
        "                             (rows_tr, cols_tr)), dtype='float64', shape=(end_idx - start_idx + 1, n_items))\n",
        "    data_te = sparse.csr_matrix((np.ones_like(rows_te),\n",
        "                             (rows_te, cols_te)), dtype='float64', shape=(end_idx - start_idx + 1, n_items))\n",
        "\n",
        "    return data_tr, data_te\n",
        "\n",
        "def NDCG_binary_at_k_batch(X_pred, heldout_batch, k=100):\n",
        "    \"\"\"\n",
        "    normalized discounted cumulative gain@k for binary relevance\n",
        "    ASSUMPTIONS: all the 0's in heldout_data indicate 0 relevance\n",
        "    Args:\n",
        "      X_pred: model's rank prediction for the \"training\" part\n",
        "      heldout_batch: the appropriate \"test\" batch for the given prediction\n",
        "      k:  Number of shown recommendations\n",
        "    Returns:\n",
        "      NDCG@k value for given predictions\n",
        "\n",
        "    \"\"\"\n",
        "    batch_users = X_pred.shape[0]\n",
        "    idx_topk_part = bn.argpartition(-X_pred, k, axis=1)\n",
        "    topk_part = X_pred[np.arange(batch_users)[:, np.newaxis],\n",
        "                       idx_topk_part[:, :k]]\n",
        "    idx_part = np.argsort(-topk_part, axis=1)\n",
        "    # X_pred[np.arange(batch_users)[:, np.newaxis], idx_topk] is the sorted\n",
        "    # topk predicted score\n",
        "    idx_topk = idx_topk_part[np.arange(batch_users)[:, np.newaxis], idx_part]\n",
        "    # build the discount template\n",
        "    tp = 1. / np.log2(np.arange(2, k + 2))\n",
        "\n",
        "    DCG = (heldout_batch[np.arange(batch_users)[:, np.newaxis],\n",
        "                         idx_topk].toarray() * tp).sum(axis=1)\n",
        "    IDCG = np.array([(tp[:min(n, k)]).sum()\n",
        "                     for n in heldout_batch.getnnz(axis=1)])\n",
        "    return DCG / IDCG\n",
        "\n",
        "def Recall_at_k_batch(X_pred, heldout_batch, k=100):\n",
        "    \"\"\"\n",
        "    Calculates Recall@K value for given prediction\n",
        "    Args:\n",
        "      X_pred: model's rank prediction for the \"training\" part\n",
        "      heldout_batch: the appropriate \"test\" batch for the given prediction\n",
        "      k:  Number of shown recommendations\n",
        "    Returns:\n",
        "      Recall@k value for given predictions\n",
        "    \"\"\"\n",
        "    batch_users = X_pred.shape[0]\n",
        "\n",
        "    idx = bn.argpartition(-X_pred, k, axis=1)\n",
        "    X_pred_binary = np.zeros_like(X_pred, dtype=bool)\n",
        "    X_pred_binary[np.arange(batch_users)[:, np.newaxis], idx[:, :k]] = True\n",
        "\n",
        "    X_true_binary = (heldout_batch > 0).toarray()\n",
        "    tmp = (np.logical_and(X_true_binary, X_pred_binary).sum(axis=1)).astype(\n",
        "        np.float32)\n",
        "    recall = tmp / np.minimum(k, X_true_binary.sum(axis=1))\n",
        "    return recall\n",
        "\n",
        "def categorial_feature_encodeing(df, feature_name):\n",
        "    \"\"\"\n",
        "    Encoding categorical features into numerical values (label encoding)\n",
        "    Args:\n",
        "      df: dataframe which contains feature to be encoded\n",
        "      feature_name:  feature name to be encoded\n",
        "    Returns:\n",
        "      the input dataframe, where feature feature_name is encoded\n",
        "    \"\"\"\n",
        "\n",
        "  categories = list(set(df[feature_name]))\n",
        "\n",
        "  # create a dictionary of values and corresponding number {value, number}\n",
        "  dict_values = {value: count for value, count in zip(categories, range(1,len(categories)+1))}\n",
        "\n",
        "  # Encoding:\n",
        "  df[feature_name] = df[feature_name].map(lambda x: dict_values.get(x))\n",
        "\n",
        "  return df\n",
        "\n",
        "\n",
        "def flatten(nested_list):\n",
        "    \"\"\"\n",
        "    Flattens nested lists, recursively\n",
        "    \"\"\"\n",
        "    for i in nested_list:\n",
        "        if isinstance(i, (list, tuple)):\n",
        "            for j in flatten(i):\n",
        "                yield j\n",
        "        else:\n",
        "            yield i\n",
        "\n",
        "def flatten_list(nested_list):\n",
        "    return list(flatten(nested_list))"
      ],
      "execution_count": null,
      "outputs": []
    },
    {
      "cell_type": "markdown",
      "metadata": {
        "id": "0Cr9RvRvL13y",
        "colab_type": "text"
      },
      "source": [
        "## Data preprocessing"
      ]
    },
    {
      "cell_type": "markdown",
      "metadata": {
        "id": "HQijCyDXNB83",
        "colab_type": "text"
      },
      "source": [
        "#### Data Load"
      ]
    },
    {
      "cell_type": "code",
      "metadata": {
        "id": "_vbfzNcoL130",
        "colab_type": "code",
        "colab": {}
      },
      "source": [
        "# Config:\n",
        "PROJ_DIR = \"Enter your project path\"\n",
        "user_id = 'userId'\n",
        "item_id = 'songId'\n",
        "rating = 'play_count'"
      ],
      "execution_count": null,
      "outputs": []
    },
    {
      "cell_type": "code",
      "metadata": {
        "id": "Z_NGwMMev1eR",
        "colab_type": "code",
        "colab": {}
      },
      "source": [
        "# Create folders:\n",
        "\n",
        "output_dir = os.path.join(PROJ_DIR, 'pro_sg')\n",
        "\n",
        "if not os.path.exists(output_dir):\n",
        "    os.makedirs(output_dir)"
      ],
      "execution_count": null,
      "outputs": []
    },
    {
      "cell_type": "code",
      "metadata": {
        "id": "8jk-KRzsL134",
        "colab_type": "code",
        "colab": {}
      },
      "source": [
        "# Read Data:\n",
        "names = [user_id, item_id, rating]\n",
        "raw_data = pd.read_csv(os.path.join(PROJ_DIR, 'data/train_triplets.txt'), sep='\\t', names=names, low_memory=False)"
      ],
      "execution_count": null,
      "outputs": []
    },
    {
      "cell_type": "code",
      "metadata": {
        "id": "xw-dDA4groPo",
        "colab_type": "code",
        "colab": {}
      },
      "source": [
        "# Load DB:\n",
        "conn = sqlite3.connect(os.path.join(PROJ_DIR, 'data/track_metadata.db'))\n",
        "songs_info_df = pd.read_sql_query(\"SELECT * FROM songs\", conn)"
      ],
      "execution_count": null,
      "outputs": []
    },
    {
      "cell_type": "code",
      "metadata": {
        "id": "wsZ-Ng0d5MJk",
        "colab_type": "code",
        "colab": {
          "base_uri": "https://localhost:8080/",
          "height": 166
        },
        "outputId": "7e62ace3-aef4-46ce-fee6-0f9d91ddc3a7"
      },
      "source": [
        "raw_data.head(4)"
      ],
      "execution_count": null,
      "outputs": [
        {
          "output_type": "execute_result",
          "data": {
            "text/html": [
              "<div>\n",
              "<style scoped>\n",
              "    .dataframe tbody tr th:only-of-type {\n",
              "        vertical-align: middle;\n",
              "    }\n",
              "\n",
              "    .dataframe tbody tr th {\n",
              "        vertical-align: top;\n",
              "    }\n",
              "\n",
              "    .dataframe thead th {\n",
              "        text-align: right;\n",
              "    }\n",
              "</style>\n",
              "<table border=\"1\" class=\"dataframe\">\n",
              "  <thead>\n",
              "    <tr style=\"text-align: right;\">\n",
              "      <th></th>\n",
              "      <th>userId</th>\n",
              "      <th>songId</th>\n",
              "      <th>play_count</th>\n",
              "    </tr>\n",
              "  </thead>\n",
              "  <tbody>\n",
              "    <tr>\n",
              "      <th>0</th>\n",
              "      <td>b80344d063b5ccb3212f76538f3d9e43d87dca9e</td>\n",
              "      <td>SOAKIMP12A8C130995</td>\n",
              "      <td>1</td>\n",
              "    </tr>\n",
              "    <tr>\n",
              "      <th>1</th>\n",
              "      <td>b80344d063b5ccb3212f76538f3d9e43d87dca9e</td>\n",
              "      <td>SOAPDEY12A81C210A9</td>\n",
              "      <td>1</td>\n",
              "    </tr>\n",
              "    <tr>\n",
              "      <th>2</th>\n",
              "      <td>b80344d063b5ccb3212f76538f3d9e43d87dca9e</td>\n",
              "      <td>SOBBMDR12A8C13253B</td>\n",
              "      <td>2</td>\n",
              "    </tr>\n",
              "    <tr>\n",
              "      <th>3</th>\n",
              "      <td>b80344d063b5ccb3212f76538f3d9e43d87dca9e</td>\n",
              "      <td>SOBFNSP12AF72A0E22</td>\n",
              "      <td>1</td>\n",
              "    </tr>\n",
              "  </tbody>\n",
              "</table>\n",
              "</div>"
            ],
            "text/plain": [
              "                                     userId              songId  play_count\n",
              "0  b80344d063b5ccb3212f76538f3d9e43d87dca9e  SOAKIMP12A8C130995           1\n",
              "1  b80344d063b5ccb3212f76538f3d9e43d87dca9e  SOAPDEY12A81C210A9           1\n",
              "2  b80344d063b5ccb3212f76538f3d9e43d87dca9e  SOBBMDR12A8C13253B           2\n",
              "3  b80344d063b5ccb3212f76538f3d9e43d87dca9e  SOBFNSP12AF72A0E22           1"
            ]
          },
          "metadata": {
            "tags": []
          },
          "execution_count": 8
        }
      ]
    },
    {
      "cell_type": "code",
      "metadata": {
        "id": "b0EKj77QsJCk",
        "colab_type": "code",
        "colab": {
          "base_uri": "https://localhost:8080/",
          "height": 387
        },
        "outputId": "796c6ac0-30cd-4fc0-8e6a-bc5685018f78"
      },
      "source": [
        "songs_info_df.head(4)"
      ],
      "execution_count": null,
      "outputs": [
        {
          "output_type": "execute_result",
          "data": {
            "text/html": [
              "<div>\n",
              "<style scoped>\n",
              "    .dataframe tbody tr th:only-of-type {\n",
              "        vertical-align: middle;\n",
              "    }\n",
              "\n",
              "    .dataframe tbody tr th {\n",
              "        vertical-align: top;\n",
              "    }\n",
              "\n",
              "    .dataframe thead th {\n",
              "        text-align: right;\n",
              "    }\n",
              "</style>\n",
              "<table border=\"1\" class=\"dataframe\">\n",
              "  <thead>\n",
              "    <tr style=\"text-align: right;\">\n",
              "      <th></th>\n",
              "      <th>track_id</th>\n",
              "      <th>title</th>\n",
              "      <th>song_id</th>\n",
              "      <th>release</th>\n",
              "      <th>artist_id</th>\n",
              "      <th>artist_mbid</th>\n",
              "      <th>artist_name</th>\n",
              "      <th>duration</th>\n",
              "      <th>artist_familiarity</th>\n",
              "      <th>artist_hotttnesss</th>\n",
              "      <th>year</th>\n",
              "      <th>track_7digitalid</th>\n",
              "      <th>shs_perf</th>\n",
              "      <th>shs_work</th>\n",
              "    </tr>\n",
              "  </thead>\n",
              "  <tbody>\n",
              "    <tr>\n",
              "      <th>0</th>\n",
              "      <td>TRMMMYQ128F932D901</td>\n",
              "      <td>Silent Night</td>\n",
              "      <td>SOQMMHC12AB0180CB8</td>\n",
              "      <td>Monster Ballads X-Mas</td>\n",
              "      <td>ARYZTJS1187B98C555</td>\n",
              "      <td>357ff05d-848a-44cf-b608-cb34b5701ae5</td>\n",
              "      <td>Faster Pussy cat</td>\n",
              "      <td>252.05506</td>\n",
              "      <td>0.649822</td>\n",
              "      <td>0.394032</td>\n",
              "      <td>2003</td>\n",
              "      <td>7032331</td>\n",
              "      <td>-1</td>\n",
              "      <td>0</td>\n",
              "    </tr>\n",
              "    <tr>\n",
              "      <th>1</th>\n",
              "      <td>TRMMMKD128F425225D</td>\n",
              "      <td>Tanssi vaan</td>\n",
              "      <td>SOVFVAK12A8C1350D9</td>\n",
              "      <td>Karkuteillä</td>\n",
              "      <td>ARMVN3U1187FB3A1EB</td>\n",
              "      <td>8d7ef530-a6fd-4f8f-b2e2-74aec765e0f9</td>\n",
              "      <td>Karkkiautomaatti</td>\n",
              "      <td>156.55138</td>\n",
              "      <td>0.439604</td>\n",
              "      <td>0.356992</td>\n",
              "      <td>1995</td>\n",
              "      <td>1514808</td>\n",
              "      <td>-1</td>\n",
              "      <td>0</td>\n",
              "    </tr>\n",
              "    <tr>\n",
              "      <th>2</th>\n",
              "      <td>TRMMMRX128F93187D9</td>\n",
              "      <td>No One Could Ever</td>\n",
              "      <td>SOGTUKN12AB017F4F1</td>\n",
              "      <td>Butter</td>\n",
              "      <td>ARGEKB01187FB50750</td>\n",
              "      <td>3d403d44-36ce-465c-ad43-ae877e65adc4</td>\n",
              "      <td>Hudson Mohawke</td>\n",
              "      <td>138.97098</td>\n",
              "      <td>0.643681</td>\n",
              "      <td>0.437504</td>\n",
              "      <td>2006</td>\n",
              "      <td>6945353</td>\n",
              "      <td>-1</td>\n",
              "      <td>0</td>\n",
              "    </tr>\n",
              "    <tr>\n",
              "      <th>3</th>\n",
              "      <td>TRMMMCH128F425532C</td>\n",
              "      <td>Si Vos Querés</td>\n",
              "      <td>SOBNYVR12A8C13558C</td>\n",
              "      <td>De Culo</td>\n",
              "      <td>ARNWYLR1187B9B2F9C</td>\n",
              "      <td>12be7648-7094-495f-90e6-df4189d68615</td>\n",
              "      <td>Yerba Brava</td>\n",
              "      <td>145.05751</td>\n",
              "      <td>0.448501</td>\n",
              "      <td>0.372349</td>\n",
              "      <td>2003</td>\n",
              "      <td>2168257</td>\n",
              "      <td>-1</td>\n",
              "      <td>0</td>\n",
              "    </tr>\n",
              "  </tbody>\n",
              "</table>\n",
              "</div>"
            ],
            "text/plain": [
              "             track_id              title  ... shs_perf shs_work\n",
              "0  TRMMMYQ128F932D901       Silent Night  ...       -1        0\n",
              "1  TRMMMKD128F425225D        Tanssi vaan  ...       -1        0\n",
              "2  TRMMMRX128F93187D9  No One Could Ever  ...       -1        0\n",
              "3  TRMMMCH128F425532C      Si Vos Querés  ...       -1        0\n",
              "\n",
              "[4 rows x 14 columns]"
            ]
          },
          "metadata": {
            "tags": []
          },
          "execution_count": 9
        }
      ]
    },
    {
      "cell_type": "markdown",
      "metadata": {
        "id": "8JBlB15Y8R2x",
        "colab_type": "text"
      },
      "source": [
        "#### Exploratory Data Analysis"
      ]
    },
    {
      "cell_type": "code",
      "metadata": {
        "id": "tw06xF2IEPtb",
        "colab_type": "code",
        "colab": {}
      },
      "source": [
        "usercount = get_count(raw_data, user_id)\n",
        "mean = np.mean(usercount)\n",
        "std = np.std(usercount)\n",
        "no_outliers_usercount = usercount[usercount<=mean+(2*std)]"
      ],
      "execution_count": null,
      "outputs": []
    },
    {
      "cell_type": "code",
      "metadata": {
        "id": "Rvi5lt6TFijv",
        "colab_type": "code",
        "colab": {
          "base_uri": "https://localhost:8080/",
          "height": 302
        },
        "outputId": "0a842119-81fc-4a67-fdca-cfa00bd6a730"
      },
      "source": [
        "plt.figure(figsize=(10, 4))\n",
        "no_outliers_usercount.hist(bins=100)\n",
        "plt.xlabel('Number of songs each user listens to')"
      ],
      "execution_count": null,
      "outputs": [
        {
          "output_type": "execute_result",
          "data": {
            "text/plain": [
              "Text(0.5, 0, 'Number of songs each user listens to')"
            ]
          },
          "metadata": {
            "tags": []
          },
          "execution_count": 11
        },
        {
          "output_type": "display_data",
          "data": {
            "image/png": "[encoded data removed]",
            "text/plain": [
              "<Figure size 720x288 with 1 Axes>"
            ]
          },
          "metadata": {
            "tags": [],
            "needs_background": "light"
          }
        }
      ]
    },
    {
      "cell_type": "code",
      "metadata": {
        "id": "2rw-V63-Fp5N",
        "colab_type": "code",
        "colab": {}
      },
      "source": [
        "songcount = get_count(raw_data, item_id)\n",
        "mean = np.mean(songcount)\n",
        "std = np.std(songcount)\n",
        "no_outliers_songcount = songcount[songcount<=mean+(2*std)]"
      ],
      "execution_count": null,
      "outputs": []
    },
    {
      "cell_type": "code",
      "metadata": {
        "id": "qLZyeyuSGBDL",
        "colab_type": "code",
        "colab": {
          "base_uri": "https://localhost:8080/",
          "height": 302
        },
        "outputId": "9c2ad9a1-2172-4cfe-f430-10a29900b7b2"
      },
      "source": [
        "plt.figure(figsize=(10, 4))\n",
        "no_outliers_songcount.hist(bins=100)\n",
        "plt.xlabel('Number of users by which each song is listened to')"
      ],
      "execution_count": null,
      "outputs": [
        {
          "output_type": "execute_result",
          "data": {
            "text/plain": [
              "Text(0.5, 0, 'Number of users by which each song is listened to')"
            ]
          },
          "metadata": {
            "tags": []
          },
          "execution_count": 13
        },
        {
          "output_type": "display_data",
          "data": {
            "image/png": "[encoded data removed]",
            "text/plain": [
              "<Figure size 720x288 with 1 Axes>"
            ]
          },
          "metadata": {
            "tags": [],
            "needs_background": "light"
          }
        }
      ]
    },
    {
      "cell_type": "markdown",
      "metadata": {
        "id": "mGFQStu82OV2",
        "colab_type": "text"
      },
      "source": [
        "#### Songs side information - Data Preprocessing"
      ]
    },
    {
      "cell_type": "code",
      "metadata": {
        "id": "8jG1RxDPi0Mx",
        "colab_type": "code",
        "colab": {}
      },
      "source": [
        "songs_info_df = songs_info_df.rename(columns={'song_id':item_id})"
      ],
      "execution_count": null,
      "outputs": []
    },
    {
      "cell_type": "code",
      "metadata": {
        "id": "_WadcPAdr2Kq",
        "colab_type": "code",
        "colab": {}
      },
      "source": [
        "side_info_features = []\n",
        "categorial_features = ['title','release','artist_id','shs_perf','shs_work']\n",
        "numeric_features = ['duration','artist_familiarity','artist_hotttnesss','year']\n",
        "\n",
        "side_info_features.append([item_id])\n",
        "side_info_features.append(categorial_features)\n",
        "side_info_features.append(numeric_features)\n",
        "side_info_features = flatten_list(nested_list=side_info_features)"
      ],
      "execution_count": null,
      "outputs": []
    },
    {
      "cell_type": "code",
      "metadata": {
        "id": "PMY1E8jrsfU3",
        "colab_type": "code",
        "colab": {}
      },
      "source": [
        "# Subset to relevent features:\n",
        "songs_info_df = songs_info_df[side_info_features]"
      ],
      "execution_count": null,
      "outputs": []
    },
    {
      "cell_type": "code",
      "metadata": {
        "id": "aPrlqvkmiyN-",
        "colab_type": "code",
        "colab": {
          "base_uri": "https://localhost:8080/",
          "height": 354
        },
        "outputId": "1e0ad4f0-4ca8-454f-ffdc-a456ba350412"
      },
      "source": [
        "# Drop duplicates:\n",
        "songs_info_df = songs_info_df.drop_duplicates()\n",
        "songs_info_df_gb = songs_info_df.groupby(item_id).count().reset_index()\n",
        "duplicates_song_info_list = list(songs_info_df_gb[songs_info_df_gb['title']>1][item_id])\n",
        "songs_info_df[songs_info_df[item_id].isin(duplicates_song_info_list)].sort_values(item_id).head(4)"
      ],
      "execution_count": null,
      "outputs": [
        {
          "output_type": "execute_result",
          "data": {
            "text/html": [
              "<div>\n",
              "<style scoped>\n",
              "    .dataframe tbody tr th:only-of-type {\n",
              "        vertical-align: middle;\n",
              "    }\n",
              "\n",
              "    .dataframe tbody tr th {\n",
              "        vertical-align: top;\n",
              "    }\n",
              "\n",
              "    .dataframe thead th {\n",
              "        text-align: right;\n",
              "    }\n",
              "</style>\n",
              "<table border=\"1\" class=\"dataframe\">\n",
              "  <thead>\n",
              "    <tr style=\"text-align: right;\">\n",
              "      <th></th>\n",
              "      <th>songId</th>\n",
              "      <th>title</th>\n",
              "      <th>release</th>\n",
              "      <th>artist_id</th>\n",
              "      <th>shs_perf</th>\n",
              "      <th>shs_work</th>\n",
              "      <th>duration</th>\n",
              "      <th>artist_familiarity</th>\n",
              "      <th>artist_hotttnesss</th>\n",
              "      <th>year</th>\n",
              "    </tr>\n",
              "  </thead>\n",
              "  <tbody>\n",
              "    <tr>\n",
              "      <th>304966</th>\n",
              "      <td>SOAAEFC12AB01852F1</td>\n",
              "      <td>De Tongbreker (Tineke Schouten &amp; Linda de Mol)</td>\n",
              "      <td>16 Liedjes Uit De Tineke Schouten Shows</td>\n",
              "      <td>AR0EEUF1187B9AABED</td>\n",
              "      <td>-1</td>\n",
              "      <td>0</td>\n",
              "      <td>219.37587</td>\n",
              "      <td>0.064534</td>\n",
              "      <td>0.000000</td>\n",
              "      <td>0</td>\n",
              "    </tr>\n",
              "    <tr>\n",
              "      <th>963681</th>\n",
              "      <td>SOAAEFC12AB01852F1</td>\n",
              "      <td>De Tongbreker</td>\n",
              "      <td>Alle 40 Goed - Hollandse Duetten</td>\n",
              "      <td>AR0EEUF1187B9AABED</td>\n",
              "      <td>-1</td>\n",
              "      <td>0</td>\n",
              "      <td>219.61098</td>\n",
              "      <td>0.064534</td>\n",
              "      <td>0.000000</td>\n",
              "      <td>0</td>\n",
              "    </tr>\n",
              "    <tr>\n",
              "      <th>572832</th>\n",
              "      <td>SOACGAQ12A58A79805</td>\n",
              "      <td>Fire And The Thud</td>\n",
              "      <td>Humbug</td>\n",
              "      <td>ARM0P6Z1187FB4D466</td>\n",
              "      <td>-1</td>\n",
              "      <td>0</td>\n",
              "      <td>239.51628</td>\n",
              "      <td>0.816597</td>\n",
              "      <td>0.564911</td>\n",
              "      <td>2009</td>\n",
              "    </tr>\n",
              "    <tr>\n",
              "      <th>141269</th>\n",
              "      <td>SOACGAQ12A58A79805</td>\n",
              "      <td>Fire And The Thud</td>\n",
              "      <td>Humbug</td>\n",
              "      <td>ARM0P6Z1187FB4D466</td>\n",
              "      <td>-1</td>\n",
              "      <td>0</td>\n",
              "      <td>237.40036</td>\n",
              "      <td>0.816597</td>\n",
              "      <td>0.553661</td>\n",
              "      <td>2009</td>\n",
              "    </tr>\n",
              "  </tbody>\n",
              "</table>\n",
              "</div>"
            ],
            "text/plain": [
              "                    songId  ...  year\n",
              "304966  SOAAEFC12AB01852F1  ...     0\n",
              "963681  SOAAEFC12AB01852F1  ...     0\n",
              "572832  SOACGAQ12A58A79805  ...  2009\n",
              "141269  SOACGAQ12A58A79805  ...  2009\n",
              "\n",
              "[4 rows x 10 columns]"
            ]
          },
          "metadata": {
            "tags": []
          },
          "execution_count": 17
        }
      ]
    },
    {
      "cell_type": "code",
      "metadata": {
        "id": "lSmH9JhEjM7m",
        "colab_type": "code",
        "colab": {
          "base_uri": "https://localhost:8080/",
          "height": 34
        },
        "outputId": "98a656a7-5848-4c0f-88b6-0e22b0d40b3c"
      },
      "source": [
        "songs_info_df = songs_info_df.drop_duplicates(subset=item_id)\n",
        "songs_info_df = songs_info_df.reset_index(drop=True)\n",
        "songs_info_df.shape[0]"
      ],
      "execution_count": null,
      "outputs": [
        {
          "output_type": "execute_result",
          "data": {
            "text/plain": [
              "999056"
            ]
          },
          "metadata": {
            "tags": []
          },
          "execution_count": 18
        }
      ]
    },
    {
      "cell_type": "code",
      "metadata": {
        "id": "rKUixIUZsj9x",
        "colab_type": "code",
        "colab": {}
      },
      "source": [
        "# Handle nan values:\n",
        "for feature_name in ['artist_familiarity','artist_hotttnesss']:\n",
        "  avg = np.mean(songs_info_df[songs_info_df[feature_name]!=-1][feature_name])\n",
        "  songs_info_df[feature_name] = songs_info_df[feature_name].apply(lambda x: avg if x==-1 else x)\n",
        "\n",
        "for feature_name in ['year']:\n",
        "  avg = np.mean(songs_info_df[songs_info_df[feature_name]!=0][feature_name])\n",
        "  songs_info_df[feature_name] = songs_info_df[feature_name].apply(lambda x: avg if x==0 else x)"
      ],
      "execution_count": null,
      "outputs": []
    },
    {
      "cell_type": "code",
      "metadata": {
        "id": "iZkBJI74spyU",
        "colab_type": "code",
        "colab": {}
      },
      "source": [
        "# Convert dtypes:\n",
        "for feature_name in categorial_features:\n",
        "  songs_info_df[feature_name] = songs_info_df[feature_name].astype(str)"
      ],
      "execution_count": null,
      "outputs": []
    },
    {
      "cell_type": "code",
      "metadata": {
        "id": "ycQ_V8Znsxdl",
        "colab_type": "code",
        "colab": {}
      },
      "source": [
        "# Categorial numeric hashing:\n",
        "for feature_name in categorial_features:\n",
        "  songs_info_df = categorial_feature_encodeing(df=songs_info_df, feature_name=feature_name)"
      ],
      "execution_count": null,
      "outputs": []
    },
    {
      "cell_type": "code",
      "metadata": {
        "id": "y5g8eDX2syup",
        "colab_type": "code",
        "colab": {}
      },
      "source": [
        "# Feature scaling:\n",
        "for feature_name in numeric_features:\n",
        "  min_max_scaler = preprocessing.MinMaxScaler(feature_range=(0, 1))\n",
        "  songs_info_df[feature_name] = min_max_scaler.fit_transform(songs_info_df[[feature_name]])"
      ],
      "execution_count": null,
      "outputs": []
    },
    {
      "cell_type": "code",
      "metadata": {
        "id": "_DY0HCA04k14",
        "colab_type": "code",
        "colab": {
          "base_uri": "https://localhost:8080/",
          "height": 166
        },
        "outputId": "1c4f8471-be9d-4aed-db01-d7613a3d1d9d"
      },
      "source": [
        "songs_info_df.head(4)"
      ],
      "execution_count": null,
      "outputs": [
        {
          "output_type": "execute_result",
          "data": {
            "text/html": [
              "<div>\n",
              "<style scoped>\n",
              "    .dataframe tbody tr th:only-of-type {\n",
              "        vertical-align: middle;\n",
              "    }\n",
              "\n",
              "    .dataframe tbody tr th {\n",
              "        vertical-align: top;\n",
              "    }\n",
              "\n",
              "    .dataframe thead th {\n",
              "        text-align: right;\n",
              "    }\n",
              "</style>\n",
              "<table border=\"1\" class=\"dataframe\">\n",
              "  <thead>\n",
              "    <tr style=\"text-align: right;\">\n",
              "      <th></th>\n",
              "      <th>songId</th>\n",
              "      <th>title</th>\n",
              "      <th>release</th>\n",
              "      <th>artist_id</th>\n",
              "      <th>shs_perf</th>\n",
              "      <th>shs_work</th>\n",
              "      <th>duration</th>\n",
              "      <th>artist_familiarity</th>\n",
              "      <th>artist_hotttnesss</th>\n",
              "      <th>year</th>\n",
              "    </tr>\n",
              "  </thead>\n",
              "  <tbody>\n",
              "    <tr>\n",
              "      <th>0</th>\n",
              "      <td>SOQMMHC12AB0180CB8</td>\n",
              "      <td>405780</td>\n",
              "      <td>127136</td>\n",
              "      <td>43022</td>\n",
              "      <td>14909</td>\n",
              "      <td>2041</td>\n",
              "      <td>0.082957</td>\n",
              "      <td>0.649822</td>\n",
              "      <td>0.364001</td>\n",
              "      <td>0.910112</td>\n",
              "    </tr>\n",
              "    <tr>\n",
              "      <th>1</th>\n",
              "      <td>SOVFVAK12A8C1350D9</td>\n",
              "      <td>35</td>\n",
              "      <td>9083</td>\n",
              "      <td>42162</td>\n",
              "      <td>14909</td>\n",
              "      <td>2041</td>\n",
              "      <td>0.051486</td>\n",
              "      <td>0.439604</td>\n",
              "      <td>0.329784</td>\n",
              "      <td>0.820225</td>\n",
              "    </tr>\n",
              "    <tr>\n",
              "      <th>2</th>\n",
              "      <td>SOGTUKN12AB017F4F1</td>\n",
              "      <td>574703</td>\n",
              "      <td>49912</td>\n",
              "      <td>27522</td>\n",
              "      <td>14909</td>\n",
              "      <td>2041</td>\n",
              "      <td>0.045692</td>\n",
              "      <td>0.643681</td>\n",
              "      <td>0.404160</td>\n",
              "      <td>0.943820</td>\n",
              "    </tr>\n",
              "    <tr>\n",
              "      <th>3</th>\n",
              "      <td>SOBNYVR12A8C13558C</td>\n",
              "      <td>290030</td>\n",
              "      <td>2609</td>\n",
              "      <td>24852</td>\n",
              "      <td>14909</td>\n",
              "      <td>2041</td>\n",
              "      <td>0.047698</td>\n",
              "      <td>0.448501</td>\n",
              "      <td>0.343971</td>\n",
              "      <td>0.910112</td>\n",
              "    </tr>\n",
              "  </tbody>\n",
              "</table>\n",
              "</div>"
            ],
            "text/plain": [
              "               songId   title  ...  artist_hotttnesss      year\n",
              "0  SOQMMHC12AB0180CB8  405780  ...           0.364001  0.910112\n",
              "1  SOVFVAK12A8C1350D9      35  ...           0.329784  0.820225\n",
              "2  SOGTUKN12AB017F4F1  574703  ...           0.404160  0.943820\n",
              "3  SOBNYVR12A8C13558C  290030  ...           0.343971  0.910112\n",
              "\n",
              "[4 rows x 10 columns]"
            ]
          },
          "metadata": {
            "tags": []
          },
          "execution_count": 23
        }
      ]
    },
    {
      "cell_type": "code",
      "metadata": {
        "id": "cnv7BU1rbyM0",
        "colab_type": "code",
        "colab": {}
      },
      "source": [
        "songs_info_df = songs_info_df[['songId','duration','artist_familiarity','artist_hotttnesss','year']]"
      ],
      "execution_count": null,
      "outputs": []
    },
    {
      "cell_type": "code",
      "metadata": {
        "id": "lU7bg9K1cLjR",
        "colab_type": "code",
        "colab": {}
      },
      "source": [
        "# Merge with side info:\n",
        "original_shape = raw_data.shape[0]\n",
        "raw_data = raw_data.merge(songs_info_df, on=item_id, how='left')"
      ],
      "execution_count": null,
      "outputs": []
    },
    {
      "cell_type": "code",
      "metadata": {
        "id": "BknX7d71p0IK",
        "colab_type": "code",
        "colab": {
          "base_uri": "https://localhost:8080/",
          "height": 34
        },
        "outputId": "3f309e3c-08c7-411d-a82a-1e4e9b168ce8"
      },
      "source": [
        "raw_data = raw_data.dropna()\n",
        "new_shape = raw_data.shape[0]\n",
        "print(\"DF new shape is: {n}, {s} songs have been removed.\".format(n=str(new_shape),s=str(original_shape-new_shape)))"
      ],
      "execution_count": null,
      "outputs": [
        {
          "output_type": "stream",
          "text": [
            "DF new shape is: 48373586, 0 songs have been removed.\n"
          ],
          "name": "stdout"
        }
      ]
    },
    {
      "cell_type": "code",
      "metadata": {
        "id": "eV_Gb7rjGt0b",
        "colab_type": "code",
        "colab": {}
      },
      "source": [
        "# Feature scaling:\n",
        "for feature_name in ['play_count']:\n",
        "  min_max_scaler = preprocessing.MinMaxScaler(feature_range=(0, 1))\n",
        "  raw_data[feature_name] = min_max_scaler.fit_transform(raw_data[[feature_name]])"
      ],
      "execution_count": null,
      "outputs": []
    },
    {
      "cell_type": "markdown",
      "metadata": {
        "id": "Z5KcUwsPL14C",
        "colab_type": "text"
      },
      "source": [
        "### Data splitting procedure"
      ]
    },
    {
      "cell_type": "code",
      "metadata": {
        "id": "tiY4I-N0L14J",
        "colab_type": "code",
        "colab": {}
      },
      "source": [
        "# Filter data:\n",
        "min_uc=6\n",
        "min_sc=50\n",
        "raw_data, user_activity, item_popularity = filter_triplets(raw_data, min_uc=min_uc, min_sc=min_sc)"
      ],
      "execution_count": null,
      "outputs": []
    },
    {
      "cell_type": "code",
      "metadata": {
        "id": "S8_b_OKIL14M",
        "colab_type": "code",
        "colab": {
          "base_uri": "https://localhost:8080/",
          "height": 34
        },
        "outputId": "db52d5b8-ee89-4162-ff67-3f702b261100"
      },
      "source": [
        "# Data Stats:\n",
        "sparsity = 1. * raw_data.shape[0] / (user_activity.shape[0] * item_popularity.shape[0])\n",
        "\n",
        "print(\"After filtering, there are %d listening events from %d users and %d songs (sparsity: %.3f%%)\" % \n",
        "      (raw_data.shape[0], user_activity.shape[0], item_popularity.shape[0], sparsity * 100))"
      ],
      "execution_count": null,
      "outputs": [
        {
          "output_type": "stream",
          "text": [
            "After filtering, there are 39415474 listening events from 629112 users and 91522 songs (sparsity: 0.068%)\n"
          ],
          "name": "stdout"
        }
      ]
    },
    {
      "cell_type": "code",
      "metadata": {
        "id": "Qqcd8Qg8L14P",
        "colab_type": "code",
        "colab": {}
      },
      "source": [
        "unique_uid = user_activity.index\n",
        "\n",
        "np.random.seed(98765)\n",
        "idx_perm = np.random.permutation(unique_uid.size)\n",
        "unique_uid = unique_uid[idx_perm]"
      ],
      "execution_count": null,
      "outputs": []
    },
    {
      "cell_type": "code",
      "metadata": {
        "id": "5sHsJ08dL14R",
        "colab_type": "code",
        "colab": {}
      },
      "source": [
        "# create train/validation/test users:\n",
        "n_users = unique_uid.size\n",
        "n_heldout_users = 50000\n",
        "\n",
        "tr_users = unique_uid[:(n_users - n_heldout_users * 2)]\n",
        "vd_users = unique_uid[(n_users - n_heldout_users * 2): (n_users - n_heldout_users)]\n",
        "te_users = unique_uid[(n_users - n_heldout_users):]"
      ],
      "execution_count": null,
      "outputs": []
    },
    {
      "cell_type": "code",
      "metadata": {
        "id": "OirbwIQNL14U",
        "colab_type": "code",
        "colab": {}
      },
      "source": [
        "train_plays = raw_data.loc[raw_data[user_id].isin(tr_users)]"
      ],
      "execution_count": null,
      "outputs": []
    },
    {
      "cell_type": "code",
      "metadata": {
        "id": "Elin26DQL14W",
        "colab_type": "code",
        "colab": {}
      },
      "source": [
        "unique_sid = pd.unique(train_plays[item_id])"
      ],
      "execution_count": null,
      "outputs": []
    },
    {
      "cell_type": "code",
      "metadata": {
        "id": "MoeHUEVnL14Z",
        "colab_type": "code",
        "colab": {}
      },
      "source": [
        "show2id = dict((sid, i) for (i, sid) in enumerate(unique_sid))\n",
        "profile2id = dict((pid, i) for (i, pid) in enumerate(unique_uid))"
      ],
      "execution_count": null,
      "outputs": []
    },
    {
      "cell_type": "code",
      "metadata": {
        "id": "FxLRckrmgRHu",
        "colab_type": "code",
        "colab": {}
      },
      "source": [
        "song_df = copy.deepcopy(raw_data)"
      ],
      "execution_count": null,
      "outputs": []
    },
    {
      "cell_type": "code",
      "metadata": {
        "id": "5XYne3fzjJnB",
        "colab_type": "code",
        "colab": {}
      },
      "source": [
        "cols = list(song_df.columns)\n",
        "cols.remove(item_id)\n",
        "cols.remove(user_id)\n",
        "song_df['song_numeric_id'] = song_df[item_id].apply(lambda x: show2id[x])\n",
        "song_df = song_df.drop_duplicates(subset=['song_numeric_id'])\n",
        "cols.append('song_numeric_id')\n",
        "song_df = song_df[cols]\n",
        "song_df = song_df.sort_values(by='song_numeric_id').reset_index(drop=True)\n",
        "song_df = song_df.set_index('song_numeric_id')\n",
        "assert song_df.shape[0]==item_popularity.shape[0]"
      ],
      "execution_count": null,
      "outputs": []
    },
    {
      "cell_type": "code",
      "metadata": {
        "id": "gn1W9bBbtmep",
        "colab_type": "code",
        "colab": {}
      },
      "source": [
        "song_df.to_csv(os.path.join(output_dir, 'song_df.csv'), index=False)"
      ],
      "execution_count": null,
      "outputs": []
    },
    {
      "cell_type": "code",
      "metadata": {
        "id": "CmOTd0MfL14c",
        "colab_type": "code",
        "colab": {}
      },
      "source": [
        "with open(os.path.join(output_dir, 'unique_sid.txt'), 'w') as f:\n",
        "    for sid in unique_sid:\n",
        "        f.write('%s\\n' % sid)"
      ],
      "execution_count": null,
      "outputs": []
    },
    {
      "cell_type": "code",
      "metadata": {
        "id": "LdfZOS3gL14i",
        "colab_type": "code",
        "colab": {}
      },
      "source": [
        "vad_plays = raw_data.loc[raw_data[user_id].isin(vd_users)]\n",
        "vad_plays = vad_plays.loc[vad_plays[item_id].isin(unique_sid)]"
      ],
      "execution_count": null,
      "outputs": []
    },
    {
      "cell_type": "code",
      "metadata": {
        "id": "lDx6ZdVrL14l",
        "colab_type": "code",
        "colab": {
          "base_uri": "https://localhost:8080/",
          "height": 857
        },
        "outputId": "c36f658b-5b48-4c74-b8bf-4df207e7a968"
      },
      "source": [
        "vad_plays_tr, vad_plays_te = split_train_test_proportion(vad_plays, min_items=5)"
      ],
      "execution_count": null,
      "outputs": [
        {
          "output_type": "stream",
          "text": [
            "0 users sampled\n",
            "1000 users sampled\n",
            "2000 users sampled\n",
            "3000 users sampled\n",
            "4000 users sampled\n",
            "5000 users sampled\n",
            "6000 users sampled\n",
            "7000 users sampled\n",
            "8000 users sampled\n",
            "9000 users sampled\n",
            "10000 users sampled\n",
            "11000 users sampled\n",
            "12000 users sampled\n",
            "13000 users sampled\n",
            "14000 users sampled\n",
            "15000 users sampled\n",
            "16000 users sampled\n",
            "17000 users sampled\n",
            "18000 users sampled\n",
            "19000 users sampled\n",
            "20000 users sampled\n",
            "21000 users sampled\n",
            "22000 users sampled\n",
            "23000 users sampled\n",
            "24000 users sampled\n",
            "25000 users sampled\n",
            "26000 users sampled\n",
            "27000 users sampled\n",
            "28000 users sampled\n",
            "29000 users sampled\n",
            "30000 users sampled\n",
            "31000 users sampled\n",
            "32000 users sampled\n",
            "33000 users sampled\n",
            "34000 users sampled\n",
            "35000 users sampled\n",
            "36000 users sampled\n",
            "37000 users sampled\n",
            "38000 users sampled\n",
            "39000 users sampled\n",
            "40000 users sampled\n",
            "41000 users sampled\n",
            "42000 users sampled\n",
            "43000 users sampled\n",
            "44000 users sampled\n",
            "45000 users sampled\n",
            "46000 users sampled\n",
            "47000 users sampled\n",
            "48000 users sampled\n",
            "49000 users sampled\n"
          ],
          "name": "stdout"
        }
      ]
    },
    {
      "cell_type": "code",
      "metadata": {
        "id": "LmZafr5HBkW7",
        "colab_type": "code",
        "colab": {}
      },
      "source": [
        "test_plays = raw_data.loc[raw_data[user_id].isin(te_users)]\n",
        "test_plays = test_plays.loc[test_plays[item_id].isin(unique_sid)]"
      ],
      "execution_count": null,
      "outputs": []
    },
    {
      "cell_type": "code",
      "metadata": {
        "id": "DSPwvEevB245",
        "colab_type": "code",
        "colab": {
          "base_uri": "https://localhost:8080/",
          "height": 857
        },
        "outputId": "1d7110a6-9da8-42ec-b08e-3c161518b31e"
      },
      "source": [
        "test_plays_tr, test_plays_te = split_train_test_proportion(test_plays, min_items=5)"
      ],
      "execution_count": null,
      "outputs": [
        {
          "output_type": "stream",
          "text": [
            "0 users sampled\n",
            "1000 users sampled\n",
            "2000 users sampled\n",
            "3000 users sampled\n",
            "4000 users sampled\n",
            "5000 users sampled\n",
            "6000 users sampled\n",
            "7000 users sampled\n",
            "8000 users sampled\n",
            "9000 users sampled\n",
            "10000 users sampled\n",
            "11000 users sampled\n",
            "12000 users sampled\n",
            "13000 users sampled\n",
            "14000 users sampled\n",
            "15000 users sampled\n",
            "16000 users sampled\n",
            "17000 users sampled\n",
            "18000 users sampled\n",
            "19000 users sampled\n",
            "20000 users sampled\n",
            "21000 users sampled\n",
            "22000 users sampled\n",
            "23000 users sampled\n",
            "24000 users sampled\n",
            "25000 users sampled\n",
            "26000 users sampled\n",
            "27000 users sampled\n",
            "28000 users sampled\n",
            "29000 users sampled\n",
            "30000 users sampled\n",
            "31000 users sampled\n",
            "32000 users sampled\n",
            "33000 users sampled\n",
            "34000 users sampled\n",
            "35000 users sampled\n",
            "36000 users sampled\n",
            "37000 users sampled\n",
            "38000 users sampled\n",
            "39000 users sampled\n",
            "40000 users sampled\n",
            "41000 users sampled\n",
            "42000 users sampled\n",
            "43000 users sampled\n",
            "44000 users sampled\n",
            "45000 users sampled\n",
            "46000 users sampled\n",
            "47000 users sampled\n",
            "48000 users sampled\n",
            "49000 users sampled\n"
          ],
          "name": "stdout"
        }
      ]
    },
    {
      "cell_type": "markdown",
      "metadata": {
        "id": "8UqU3xDWL14r",
        "colab_type": "text"
      },
      "source": [
        "### Save the data into (user_index, item_index) format"
      ]
    },
    {
      "cell_type": "code",
      "metadata": {
        "id": "2GCCRledL14v",
        "colab_type": "code",
        "colab": {}
      },
      "source": [
        "train_data = numerize(train_plays, user_id, item_id)\n",
        "train_data.to_csv(os.path.join(output_dir, 'train.csv'), index=False)"
      ],
      "execution_count": null,
      "outputs": []
    },
    {
      "cell_type": "code",
      "metadata": {
        "id": "0sor74MWL14y",
        "colab_type": "code",
        "colab": {}
      },
      "source": [
        "vad_data_tr = numerize(vad_plays_tr, user_id, item_id)\n",
        "vad_data_tr.to_csv(os.path.join(output_dir, 'validation_tr.csv'), index=False)"
      ],
      "execution_count": null,
      "outputs": []
    },
    {
      "cell_type": "code",
      "metadata": {
        "id": "1GAqwzKLL142",
        "colab_type": "code",
        "colab": {}
      },
      "source": [
        "vad_data_te = numerize(vad_plays_te, user_id, item_id)\n",
        "vad_data_te.to_csv(os.path.join(output_dir, 'validation_te.csv'), index=False)"
      ],
      "execution_count": null,
      "outputs": []
    },
    {
      "cell_type": "code",
      "metadata": {
        "id": "GFuEV9NXL144",
        "colab_type": "code",
        "colab": {}
      },
      "source": [
        "test_data_tr = numerize(test_plays_tr, user_id, item_id)\n",
        "test_data_tr.to_csv(os.path.join(output_dir, 'test_tr.csv'), index=False)"
      ],
      "execution_count": null,
      "outputs": []
    },
    {
      "cell_type": "code",
      "metadata": {
        "id": "E7bfKQYmL146",
        "colab_type": "code",
        "colab": {}
      },
      "source": [
        "test_data_te = numerize(test_plays_te, user_id, item_id)\n",
        "test_data_te.to_csv(os.path.join(output_dir, 'test_te.csv'), index=False)"
      ],
      "execution_count": null,
      "outputs": []
    },
    {
      "cell_type": "markdown",
      "metadata": {
        "id": "s8TAKb1oL148",
        "colab_type": "text"
      },
      "source": [
        "## Model definition and training"
      ]
    },
    {
      "cell_type": "markdown",
      "metadata": {
        "id": "Q2yjYzvtL149",
        "colab_type": "text"
      },
      "source": [
        "### Model definition"
      ]
    },
    {
      "cell_type": "markdown",
      "metadata": {
        "id": "s5KEDvn7L14-",
        "colab_type": "text"
      },
      "source": [
        "__Notations__: We use $u \\in \\{1,\\dots,U\\}$ to index users and $i \\in \\{1,\\dots,I\\}$ to index items. In this work, we consider learning with implicit feedback. The user-by-item interaction matrix is the click matrix $\\mathbf{X} \\in \\mathbb{N}^{U\\times I}$. The lower case $\\mathbf{x}_u =[X_{u1},\\dots,X_{uI}]^\\top \\in \\mathbb{N}^I$ is a bag-of-words vector with the number of clicks for each item from user u. We binarize the click matrix. It is straightforward to extend it to general count data."
      ]
    },
    {
      "cell_type": "markdown",
      "metadata": {
        "id": "-4MD_u6tL14-",
        "colab_type": "text"
      },
      "source": [
        "__Generative process__: For each user $u$, the model starts by sampling a $K$-dimensional latent representation $\\mathbf{z}_u$ from a standard Gaussian prior. The latent representation $\\mathbf{z}_u$ is transformed via a non-linear function $f_\\theta (\\cdot) \\in \\mathbb{R}^I$ to produce a probability distribution over $I$ items $\\pi (\\mathbf{z}_u)$ from which the click history $\\mathbf{x}_u$ is assumed to have been drawn:\n",
        "\n",
        "$$\n",
        "\\mathbf{z}_u \\sim \\mathcal{N}(0, \\mathbf{I}_K),  \\pi(\\mathbf{z}_u) \\propto \\exp\\{f_\\theta (\\mathbf{z}_u\\},\\\\\n",
        "\\mathbf{x}_u \\sim \\mathrm{Mult}(N_u, \\pi(\\mathbf{z}_u))\n",
        "$$"
      ]
    },
    {
      "cell_type": "markdown",
      "metadata": {
        "id": "DdfXLo4YL14_",
        "colab_type": "text"
      },
      "source": [
        "The objective for Multi-DAE for a single user $u$ is:\n",
        "$$\n",
        "\\mathcal{L}_u(\\theta, \\phi) = \\log p_\\theta(\\mathbf{x}_u | g_\\phi(\\mathbf{x}_u))\n",
        "$$\n",
        "where $g_\\phi(\\cdot)$ is the non-linear \"encoder\" function."
      ]
    },
    {
      "cell_type": "code",
      "metadata": {
        "id": "HzEJaNURc84B",
        "colab_type": "code",
        "colab": {}
      },
      "source": [
        "def l2_regularizer(scale, scope=None):\n",
        "  \"\"\"Returns a function that can be used to apply L2 regularization to weights.\n",
        "  Small values of L2 can help prevent overfitting the training data.\n",
        "  Args:\n",
        "    scale: A scalar multiplier `Tensor`. 0.0 disables the regularizer.\n",
        "    scope: An optional scope name.\n",
        "  Returns:\n",
        "    A function with signature `l2(weights)` that applies L2 regularization.\n",
        "  Raises:\n",
        "    ValueError: If scale is negative or if scale is not a float.\n",
        "  \"\"\"\n",
        "  if isinstance(scale, numbers.Integral):\n",
        "    raise ValueError('scale cannot be an integer: %s' % (scale,))\n",
        "  if isinstance(scale, numbers.Real):\n",
        "    if scale < 0.:\n",
        "      raise ValueError('Setting a scale less than 0 on a regularizer: %g.' %\n",
        "                       scale)\n",
        "    if scale == 0.:\n",
        "      logging.info('Scale of 0 disables regularizer.')\n",
        "      return lambda _: None\n",
        "\n",
        "\n",
        "\n",
        "def apply_regularization(regularizer, weights_list=None):\n",
        "  \"\"\"Returns the summed penalty by applying `regularizer` to the `weights_list`.\n",
        "  Adding a regularization penalty over the layer weights and embedding weights\n",
        "  can help prevent overfitting the training data. Regularization over layer\n",
        "  biases is less common/useful, but assuming proper data preprocessing/mean\n",
        "  subtraction, it usually shouldn't hurt much either.\n",
        "  Args:\n",
        "    regularizer: A function that takes a single `Tensor` argument and returns\n",
        "      a scalar `Tensor` output.\n",
        "    weights_list: List of weights `Tensors` or `Variables` to apply\n",
        "      `regularizer` over. Defaults to the `GraphKeys.WEIGHTS` collection if\n",
        "      `None`.\n",
        "  Returns:\n",
        "    A scalar representing the overall regularization penalty.\n",
        "  Raises:\n",
        "    ValueError: If `regularizer` does not return a scalar output, or if we find\n",
        "        no weights.\n",
        "  \"\"\"\n",
        "  if not weights_list:\n",
        "    weights_list = ops.get_collection(ops.GraphKeys.WEIGHTS)\n",
        "  if not weights_list:\n",
        "    raise ValueError('No weights to regularize.')\n",
        "  with ops.name_scope('get_regularization_penalty',\n",
        "                      values=weights_list) as scope:\n",
        "    penalties = [regularizer(w) for w in weights_list]\n",
        "    penalties = [\n",
        "        p if p is not None else constant_op.constant(0.0) for p in penalties\n",
        "    ]\n",
        "    for p in penalties:\n",
        "      if p.get_shape().ndims != 0:\n",
        "        raise ValueError('regularizer must return a scalar Tensor instead of a '\n",
        "                         'Tensor with rank %d.' % p.get_shape().ndims)\n",
        "\n",
        "    summed_penalty = math_ops.add_n(penalties, name=scope)\n",
        "    ops.add_to_collection(ops.GraphKeys.REGULARIZATION_LOSSES, summed_penalty)\n",
        "    return summed_penalty\n",
        "\n",
        "\n",
        "def variance_scaling_initializer(factor=2.0, mode='FAN_IN', uniform=False,\n",
        "                                 seed=None, dtype=tf.dtypes.float32):\n",
        "  \"\"\"Returns an initializer that generates tensors without scaling variance.\n",
        "  When initializing a deep network, it is in principle advantageous to keep\n",
        "  the scale of the input variance constant, so it does not explode or diminish\n",
        "  by reaching the final layer. This initializer use the following formula:\n",
        "  ```python\n",
        "    if mode='FAN_IN': # Count only number of input connections.\n",
        "      n = fan_in\n",
        "    elif mode='FAN_OUT': # Count only number of output connections.\n",
        "      n = fan_out\n",
        "    elif mode='FAN_AVG': # Average number of inputs and output connections.\n",
        "      n = (fan_in + fan_out)/2.0\n",
        "      truncated_normal(shape, 0.0, stddev=sqrt(factor / n))\n",
        "  ```\n",
        "  * To get [Delving Deep into Rectifiers](\n",
        "     http://arxiv.org/pdf/1502.01852v1.pdf) (also know as the \"MSRA \n",
        "     initialization\"), use (Default):<br/>\n",
        "    `factor=2.0 mode='FAN_IN' uniform=False`\n",
        "  * To get [Convolutional Architecture for Fast Feature Embedding](\n",
        "     http://arxiv.org/abs/1408.5093), use:<br/>\n",
        "    `factor=1.0 mode='FAN_IN' uniform=True`\n",
        "  * To get [Understanding the difficulty of training deep feedforward neural\n",
        "    networks](http://jmlr.org/proceedings/papers/v9/glorot10a/glorot10a.pdf),\n",
        "    use:<br/>\n",
        "    `factor=1.0 mode='FAN_AVG' uniform=True.`\n",
        "  * To get `xavier_initializer` use either:<br/>\n",
        "    `factor=1.0 mode='FAN_AVG' uniform=True`, or<br/>\n",
        "    `factor=1.0 mode='FAN_AVG' uniform=False`.\n",
        "  Args:\n",
        "    factor: Float.  A multiplicative factor.\n",
        "    mode: String.  'FAN_IN', 'FAN_OUT', 'FAN_AVG'.\n",
        "    uniform: Whether to use uniform or normal distributed random initialization.\n",
        "    seed: A Python integer. Used to create random seeds. See\n",
        "          `tf.compat.v1.set_random_seed` for behavior.\n",
        "    dtype: The data type. Only floating point types are supported.\n",
        "  Returns:\n",
        "    An initializer that generates tensors with unit variance.\n",
        "  Raises:\n",
        "    ValueError: if `dtype` is not a floating point type.\n",
        "    TypeError: if `mode` is not in ['FAN_IN', 'FAN_OUT', 'FAN_AVG'].\n",
        "  \"\"\"\n",
        "  if not dtype.is_floating:\n",
        "    raise TypeError('Cannot create initializer for non-floating point type.')\n",
        "  if mode not in ['FAN_IN', 'FAN_OUT', 'FAN_AVG']:\n",
        "    raise TypeError('Unknown mode %s [FAN_IN, FAN_OUT, FAN_AVG]', mode)\n",
        "\n",
        "  # pylint: disable=unused-argument\n",
        "  def _initializer(shape, dtype=dtype, partition_info=None):\n",
        "    \"\"\"Initializer function.\"\"\"\n",
        "    if not dtype.is_floating:\n",
        "      raise TypeError('Cannot create initializer for non-floating point type.')\n",
        "    # Estimating fan_in and fan_out is not possible to do perfectly, but we try.\n",
        "    # This is the right thing for matrix multiply and convolutions.\n",
        "    if shape:\n",
        "      fan_in = float(shape[-2]) if len(shape) > 1 else float(shape[-1])\n",
        "      fan_out = float(shape[-1])\n",
        "    else:\n",
        "      fan_in = 1.0\n",
        "      fan_out = 1.0\n",
        "    for dim in shape[:-2]:\n",
        "      fan_in *= float(dim)\n",
        "      fan_out *= float(dim)\n",
        "    if mode == 'FAN_IN':\n",
        "      # Count only number of input connections.\n",
        "      n = fan_in\n",
        "    elif mode == 'FAN_OUT':\n",
        "      # Count only number of output connections.\n",
        "      n = fan_out\n",
        "    elif mode == 'FAN_AVG':\n",
        "      # Average number of inputs and output connections.\n",
        "      n = (fan_in + fan_out) / 2.0\n",
        "    if uniform:\n",
        "      # To get stddev = math.sqrt(factor / n) need to adjust for uniform.\n",
        "      limit = math.sqrt(3.0 * factor / n)\n",
        "      return random_ops.random_uniform(shape, -limit, limit,\n",
        "                                       dtype, seed=seed)\n",
        "    else:\n",
        "      # To get stddev = math.sqrt(factor / n) need to adjust for truncated.\n",
        "      trunc_stddev = math.sqrt(1.3 * factor / n)\n",
        "      return random_ops.truncated_normal(shape, 0.0, trunc_stddev, dtype,\n",
        "                                         seed=seed)\n",
        "  # pylint: enable=unused-argument\n",
        "\n",
        "  return _initializer\n",
        "\n",
        "\n",
        "\n",
        "def xavier_initializer(uniform=True, seed=None, dtype=tf.dtypes.float32):\n",
        "  \"\"\"Returns an initializer performing \"Xavier\" initialization for weights.\n",
        "  This function implements the weight initialization from:\n",
        "  Xavier Glorot and Yoshua Bengio (2010):\n",
        "           [Understanding the difficulty of training deep feedforward neural\n",
        "           networks. International conference on artificial intelligence and\n",
        "           statistics.](\n",
        "           http://www.jmlr.org/proceedings/papers/v9/glorot10a/glorot10a.pdf)\n",
        "  This initializer is designed to keep the scale of the gradients roughly the\n",
        "  same in all layers. In uniform distribution this ends up being the range:\n",
        "  `x = sqrt(6. / (in + out)); [-x, x]` and for normal distribution a standard\n",
        "  deviation of `sqrt(2. / (in + out))` is used.\n",
        "  Args:\n",
        "    uniform: Whether to use uniform or normal distributed random initialization.\n",
        "    seed: A Python integer. Used to create random seeds. See\n",
        "          `tf.compat.v1.set_random_seed` for behavior.\n",
        "    dtype: The data type. Only floating point types are supported.\n",
        "  Returns:\n",
        "    An initializer for a weight matrix.\n",
        "  \"\"\"\n",
        "  return variance_scaling_initializer(factor=1.0, mode='FAN_AVG',\n",
        "                                      uniform=uniform, seed=seed, dtype=dtype)\n"
      ],
      "execution_count": null,
      "outputs": []
    },
    {
      "cell_type": "markdown",
      "metadata": {
        "id": "ELlVXZJYL15C",
        "colab_type": "text"
      },
      "source": [
        "The objective of Multi-VAE^{PR} (evidence lower-bound, or ELBO) for a single user $u$ is:\n",
        "$$\n",
        "\\mathcal{L}_u(\\theta, \\phi) = \\mathbb{E}_{q_\\phi(z_u | x_u)}[\\log p_\\theta(x_u | z_u)] - \\beta \\cdot KL(q_\\phi(z_u | x_u) \\| p(z_u))\n",
        "$$\n",
        "where $q_\\phi$ is the approximating variational distribution (inference model). $\\beta$ is the additional annealing parameter that we control. The objective of the entire dataset is the average over all the users. It can be trained almost the same as Multi-DAE, thanks to reparametrization trick. "
      ]
    },
    {
      "cell_type": "code",
      "metadata": {
        "id": "Gvr6TaTveE9D",
        "colab_type": "code",
        "colab": {}
      },
      "source": [
        "class MultiDAE(object):\n",
        "    def __init__(self, p_dims, q_dims=None, lam=0.01, lr=1e-3, random_seed=None, beta_type='annealing'):\n",
        "        self.p_dims = p_dims\n",
        "        if q_dims is None:\n",
        "            self.q_dims = p_dims[::-1]\n",
        "        else:\n",
        "            assert q_dims[0] == p_dims[-1], \"Input and output dimension must equal each other for autoencoders.\"\n",
        "            assert q_dims[-1] == p_dims[0], \"Latent dimension for p- and q-network mismatches.\"\n",
        "            self.q_dims = q_dims\n",
        "        self.dims = self.q_dims + self.p_dims[1:]\n",
        "        \n",
        "        self.lam = lam\n",
        "        self.lr = lr\n",
        "        self.random_seed = random_seed\n",
        "        self.beta_type = beta_type\n",
        "\n",
        "        self.construct_placeholders()\n",
        "\n",
        "    def construct_placeholders(self):        \n",
        "        self.input_ph = tf.placeholder(\n",
        "            dtype=tf.float32, shape=[None, self.dims[0]])\n",
        "        self.keep_prob_ph = tf.placeholder_with_default(1.0, shape=None)\n",
        "\n",
        "    def build_graph(self):\n",
        "\n",
        "        self.construct_weights()\n",
        "\n",
        "        saver, logits = self.forward_pass()\n",
        "        log_softmax_var = tf.nn.log_softmax(logits)\n",
        "\n",
        "        # per-user average negative log-likelihood\n",
        "        neg_ll = -tf.reduce_mean(tf.reduce_sum(\n",
        "            log_softmax_var * self.input_ph, axis=1))\n",
        "        \n",
        "        # apply regularization to weights\n",
        "        reg = l2_regularizer(self.lam)\n",
        "        reg_var = apply_regularization(reg, self.weights)\n",
        "        \n",
        "        # tensorflow l2 regularization multiply 0.5 to the l2 norm\n",
        "        # multiply 2 so that it is back in the same scale\n",
        "        loss = neg_ll + 2 * reg_var\n",
        "        \n",
        "        train_op = tf.train.AdamOptimizer(self.lr).minimize(loss)\n",
        "\n",
        "        # add summary statistics\n",
        "        tf.summary.scalar('negative_multi_ll', neg_ll)\n",
        "        tf.summary.scalar('loss', loss)\n",
        "        merged = tf.summary.merge_all()\n",
        "        return saver, logits, loss, train_op, merged\n",
        "\n",
        "    def forward_pass(self):\n",
        "        # construct forward graph        \n",
        "        h = tf.nn.l2_normalize(self.input_ph, 1)\n",
        "        h = tf.nn.dropout(h, self.keep_prob_ph)\n",
        "        \n",
        "        for i, (w, b) in enumerate(zip(self.weights, self.biases)):\n",
        "            h = tf.matmul(h, w) + b\n",
        "            \n",
        "            if i != len(self.weights) - 1:\n",
        "                h = tf.nn.tanh(h)\n",
        "        return tf.train.Saver(), h\n",
        "\n",
        "    def construct_weights(self):\n",
        "\n",
        "        self.weights = []\n",
        "        self.biases = []\n",
        "        \n",
        "        # define weights\n",
        "        for i, (d_in, d_out) in enumerate(zip(self.dims[:-1], self.dims[1:])):\n",
        "            weight_key = \"weight_{}to{}\".format(i, i+1)\n",
        "            bias_key = \"bias_{}\".format(i+1)\n",
        "            \n",
        "            self.weights.append(tf.get_variable(\n",
        "                name=weight_key, shape=[d_in, d_out],\n",
        "                initializer=tf.contrib.layers.xavier_initializer(\n",
        "                    seed=self.random_seed)))\n",
        "            \n",
        "            self.biases.append(tf.get_variable(\n",
        "                name=bias_key, shape=[d_out],\n",
        "                initializer=tf.truncated_normal_initializer(\n",
        "                    stddev=0.001, seed=self.random_seed)))\n",
        "            \n",
        "            # add summary stats\n",
        "            tf.summary.histogram(weight_key, self.weights[-1])\n",
        "            tf.summary.histogram(bias_key, self.biases[-1])"
      ],
      "execution_count": null,
      "outputs": []
    },
    {
      "cell_type": "code",
      "metadata": {
        "id": "g9IGqCAuL15C",
        "colab_type": "code",
        "colab": {}
      },
      "source": [
        "class MultiVAE(MultiDAE):\n",
        "\n",
        "    def construct_placeholders(self):\n",
        "        super(MultiVAE, self).construct_placeholders()\n",
        "\n",
        "        # placeholders with default values when scoring\n",
        "        self.is_training_ph = tf.placeholder_with_default(0., shape=None)\n",
        "        self.anneal_ph = tf.placeholder_with_default(1., shape=None)\n",
        "        \n",
        "    def build_graph(self):\n",
        "        beta_type = self.beta_type\n",
        "        self._construct_weights()\n",
        "\n",
        "        saver, logits, KL = self.forward_pass()\n",
        "        log_softmax_var = tf.nn.log_softmax(logits)\n",
        "\n",
        "        neg_ll = -tf.reduce_mean(tf.reduce_sum(\n",
        "            log_softmax_var * self.input_ph,\n",
        "            axis=-1))\n",
        "\n",
        "        # apply regularization to weights\n",
        "        reg = l2_regularizer(self.lam)\n",
        "        reg_var = apply_regularization(reg, self.weights_q + self.weights_p)\n",
        "\n",
        "        # tensorflow l2 regularization multiply 0.5 to the l2 norm\n",
        "        # multiply 2 so that it is back in the same scale\n",
        "        if beta_type == \"annealing\":\n",
        "          neg_ELBO = neg_ll + self.anneal_ph * KL + 2 * reg_var\n",
        "        else:\n",
        "          neg_ELBO = neg_ll + tf.reduce_mean(self.anneal_ph * KL) + (2 * reg_var)\n",
        "        \n",
        "        train_op = tf.train.AdamOptimizer(self.lr).minimize(neg_ELBO)\n",
        "\n",
        "        # add summary statistics\n",
        "        tf.summary.scalar('negative_multi_ll', neg_ll)\n",
        "        tf.summary.scalar('KL', KL)\n",
        "        tf.summary.scalar('neg_ELBO_train', neg_ELBO)\n",
        "        merged = tf.summary.merge_all()\n",
        "\n",
        "        return saver, logits, neg_ELBO, train_op, merged\n",
        "    \n",
        "    def q_graph(self):\n",
        "        mu_q, std_q, KL = None, None, None\n",
        "        \n",
        "        h = tf.nn.l2_normalize(self.input_ph, 1)\n",
        "        h = tf.nn.dropout(h, self.keep_prob_ph)\n",
        "        \n",
        "        for i, (w, b) in enumerate(zip(self.weights_q, self.biases_q)):\n",
        "            h = tf.matmul(h, w) + b\n",
        "            \n",
        "            if i != len(self.weights_q) - 1:\n",
        "                h = tf.nn.tanh(h)\n",
        "            else:\n",
        "                mu_q = h[:, :self.q_dims[-1]]\n",
        "                logvar_q = h[:, self.q_dims[-1]:]\n",
        "\n",
        "                std_q = tf.exp(0.5 * logvar_q)\n",
        "                KL = tf.reduce_mean(tf.reduce_sum(\n",
        "                        0.5 * (-logvar_q + tf.exp(logvar_q) + mu_q**2 - 1), axis=1))\n",
        "        return mu_q, std_q, KL\n",
        "\n",
        "    def p_graph(self, z):\n",
        "        h = z\n",
        "        \n",
        "        for i, (w, b) in enumerate(zip(self.weights_p, self.biases_p)):\n",
        "            h = tf.matmul(h, w) + b\n",
        "            \n",
        "            if i != len(self.weights_p) - 1:\n",
        "                h = tf.nn.tanh(h)\n",
        "        return h\n",
        "\n",
        "    def forward_pass(self):\n",
        "        # q-network\n",
        "        mu_q, std_q, KL = self.q_graph()\n",
        "        epsilon = tf.random_normal(tf.shape(std_q))\n",
        "\n",
        "        sampled_z = mu_q + self.is_training_ph *\\\n",
        "            epsilon * std_q\n",
        "\n",
        "        # p-network\n",
        "        logits = self.p_graph(sampled_z)\n",
        "        \n",
        "        return tf.train.Saver(), logits, KL\n",
        "\n",
        "    def _construct_weights(self):\n",
        "        self.weights_q, self.biases_q = [], []\n",
        "        \n",
        "        for i, (d_in, d_out) in enumerate(zip(self.q_dims[:-1], self.q_dims[1:])):\n",
        "            if i == len(self.q_dims[:-1]) - 1:\n",
        "                # we need two sets of parameters for mean and variance,\n",
        "                # respectively\n",
        "                d_out *= 2\n",
        "            weight_key = \"weight_q_{}to{}\".format(i, i+1)\n",
        "            bias_key = \"bias_q_{}\".format(i+1)\n",
        "            \n",
        "            self.weights_q.append(tf.get_variable(\n",
        "                name=weight_key, shape=[d_in, d_out],\n",
        "                initializer=xavier_initializer(\n",
        "                    seed=self.random_seed)))\n",
        "            \n",
        "            self.biases_q.append(tf.get_variable(\n",
        "                name=bias_key, shape=[d_out],\n",
        "                initializer=tf.truncated_normal_initializer(\n",
        "                    stddev=0.001, seed=self.random_seed)))\n",
        "            \n",
        "            # add summary stats\n",
        "            tf.summary.histogram(weight_key, self.weights_q[-1])\n",
        "            tf.summary.histogram(bias_key, self.biases_q[-1])\n",
        "            \n",
        "        self.weights_p, self.biases_p = [], []\n",
        "\n",
        "        for i, (d_in, d_out) in enumerate(zip(self.p_dims[:-1], self.p_dims[1:])):\n",
        "            weight_key = \"weight_p_{}to{}\".format(i, i+1)\n",
        "            bias_key = \"bias_p_{}\".format(i+1)\n",
        "            self.weights_p.append(tf.get_variable(\n",
        "                name=weight_key, shape=[d_in, d_out],\n",
        "                initializer=xavier_initializer(\n",
        "                    seed=self.random_seed)))\n",
        "            \n",
        "            self.biases_p.append(tf.get_variable(\n",
        "                name=bias_key, shape=[d_out],\n",
        "                initializer=tf.truncated_normal_initializer(\n",
        "                    stddev=0.001, seed=self.random_seed)))\n",
        "            \n",
        "            # add summary stats\n",
        "            tf.summary.histogram(weight_key, self.weights_p[-1])\n",
        "            tf.summary.histogram(bias_key, self.biases_p[-1])"
      ],
      "execution_count": null,
      "outputs": []
    },
    {
      "cell_type": "markdown",
      "metadata": {
        "id": "yrpFYZpoL15E",
        "colab_type": "text"
      },
      "source": [
        "### Training/validation data, hyperparameters"
      ]
    },
    {
      "cell_type": "code",
      "metadata": {
        "id": "eODBAGCRSnSd",
        "colab_type": "code",
        "colab": {}
      },
      "source": [
        "# Config:\n",
        "data_type = \"basic\" # \"basic\" or \"with_side_info\"\n",
        "beta_type = \"annealing\" # \"annealing\" or \"user_specific\""
      ],
      "execution_count": null,
      "outputs": []
    },
    {
      "cell_type": "code",
      "metadata": {
        "id": "vHh1jCpYL15F",
        "colab_type": "code",
        "colab": {}
      },
      "source": [
        "# Load the pre-processed training and validation data:\n",
        "unique_sid = list()\n",
        "with open(os.path.join(output_dir, 'unique_sid.txt'), 'r') as f:\n",
        "    for line in f:\n",
        "        unique_sid.append(line.strip())\n",
        "\n",
        "n_items = len(unique_sid)"
      ],
      "execution_count": null,
      "outputs": []
    },
    {
      "cell_type": "code",
      "metadata": {
        "id": "zVI7Y7RvunRc",
        "colab_type": "code",
        "colab": {}
      },
      "source": [
        "train_data = load_train_data(train_csv_file=os.path.join(output_dir, 'train.csv'),\n",
        "                             user_id=user_id, item_id=item_id, n_items=n_items)"
      ],
      "execution_count": null,
      "outputs": []
    },
    {
      "cell_type": "code",
      "metadata": {
        "id": "7UlvuK9OL15N",
        "colab_type": "code",
        "colab": {}
      },
      "source": [
        "vad_data_tr, vad_data_te = load_tr_te_data(validation_tr_csv_file=os.path.join(output_dir, 'validation_tr.csv'),\n",
        "                                           validation_te_csv_file=os.path.join(output_dir, 'validation_te.csv'),\n",
        "                                           user_id=user_id, item_id=item_id, n_items=n_items)"
      ],
      "execution_count": null,
      "outputs": []
    },
    {
      "cell_type": "code",
      "metadata": {
        "id": "pAlHnKD0L15Q",
        "colab_type": "code",
        "colab": {}
      },
      "source": [
        "# Config - hyperparameters:\n",
        "N = train_data.shape[0]\n",
        "idxlist = range(N)\n",
        "batch_size = 500 # training batch size\n",
        "batches_per_epoch = int(np.ceil(float(N) / batch_size))\n",
        "N_vad = vad_data_tr.shape[0]\n",
        "idxlist_vad = range(N_vad)\n",
        "batch_size_vad = 2000 # validation batch size \n",
        "total_anneal_steps = 200000 # the total number of gradient updates for annealing\n",
        "anneal_cap = 0.43 # Beta is annealed to this value while training, that is,\n",
        "                  # beta is increased from 0 to anneal_cap, and stops growing once it reaches this value\n",
        "gamma = 0.001 # Regularization constant for the case that user-specific beta is requested"
      ],
      "execution_count": null,
      "outputs": []
    },
    {
      "cell_type": "markdown",
      "metadata": {
        "id": "nQ6450-5L15X",
        "colab_type": "text"
      },
      "source": [
        "### Train a Multi-VAE^{PR}"
      ]
    },
    {
      "cell_type": "markdown",
      "metadata": {
        "id": "wGxYF2YOL15X",
        "colab_type": "text"
      },
      "source": [
        "For MSD, we set both the generative function $f_\\theta(\\cdot)$ and the inference model $g_\\phi(\\cdot)$ to be 3-layer multilayer perceptron (MLP) with symmetrical architecture. "
      ]
    },
    {
      "cell_type": "markdown",
      "metadata": {
        "id": "318Dfy4TL15Y",
        "colab_type": "text"
      },
      "source": [
        "The generative function is a [200 -> 600 -> n_items] MLP, which means the inference function is a [n_items -> 600 -> 200] MLP. Thus the overall architecture for the Multi-VAE^{PR} is [n_items -> 600 -> 200 -> 600 -> n_items]."
      ]
    },
    {
      "cell_type": "code",
      "metadata": {
        "id": "-mpMK-g2L15Y",
        "colab_type": "code",
        "colab": {}
      },
      "source": [
        "p_dims = [200, 600, n_items]"
      ],
      "execution_count": null,
      "outputs": []
    },
    {
      "cell_type": "code",
      "metadata": {
        "id": "oHcYs-PSL15b",
        "colab_type": "code",
        "colab": {}
      },
      "source": [
        "tf.reset_default_graph()\n",
        "\n",
        "vae = MultiVAE(p_dims, lam=0.0, random_seed=98765, beta_type=beta_type)\n",
        "\n",
        "saver, logits_var, loss_var, train_op_var, merged_var = vae.build_graph()\n",
        "\n",
        "ndcg_var = tf.Variable(0.0)\n",
        "ndcg_dist_var = tf.placeholder(dtype=tf.float64, shape=None)\n",
        "ndcg_summary = tf.summary.scalar('ndcg_at_k_validation', ndcg_var)\n",
        "ndcg_dist_summary = tf.summary.histogram('ndcg_at_k_hist_validation', ndcg_dist_var)\n",
        "merged_valid = tf.summary.merge([ndcg_summary, ndcg_dist_summary])"
      ],
      "execution_count": null,
      "outputs": []
    },
    {
      "cell_type": "code",
      "metadata": {
        "id": "aPQJk8U7L15f",
        "colab_type": "code",
        "colab": {}
      },
      "source": [
        "arch_str = \"I-%s-I\" % ('-'.join([str(d) for d in vae.dims[1:-1]]))"
      ],
      "execution_count": null,
      "outputs": []
    },
    {
      "cell_type": "code",
      "metadata": {
        "id": "mk-tnb2lL15j",
        "colab_type": "code",
        "colab": {
          "base_uri": "https://localhost:8080/",
          "height": 34
        },
        "outputId": "7023542b-4088-4f51-96ab-3253b4987304"
      },
      "source": [
        "log_dir = PROJ_DIR + 'log/VAE_anneal{}K_cap{:1.1E}/{}'.format(\n",
        "    total_anneal_steps/1000, anneal_cap, arch_str)\n",
        "\n",
        "if os.path.exists(log_dir):\n",
        "    shutil.rmtree(log_dir)\n",
        "\n",
        "print(\"log directory: %s\" % log_dir)\n",
        "summary_writer = tf.summary.FileWriter(log_dir, graph=tf.get_default_graph())"
      ],
      "execution_count": null,
      "outputs": [
        {
          "output_type": "stream",
          "text": [
            "log directory: ./drive/My Drive/Colab Notebooks/RecSys/log/VAE_anneal200.0K_cap3.2E-01/I-600-200-600-I\n"
          ],
          "name": "stdout"
        }
      ]
    },
    {
      "cell_type": "code",
      "metadata": {
        "id": "2TH4Pw9zL15k",
        "colab_type": "code",
        "colab": {
          "base_uri": "https://localhost:8080/",
          "height": 34
        },
        "outputId": "ea205866-7199-4861-924f-19da4bc1028b"
      },
      "source": [
        "chkpt_dir = PROJ_DIR + 'chkpt/VAE_anneal{}K_cap{:1.1E}/{}'.format(\n",
        "    total_anneal_steps/1000, anneal_cap, arch_str)\n",
        "\n",
        "if not os.path.isdir(chkpt_dir):\n",
        "    os.makedirs(chkpt_dir) \n",
        "    \n",
        "print(\"chkpt directory: %s\" % chkpt_dir)"
      ],
      "execution_count": null,
      "outputs": [
        {
          "output_type": "stream",
          "text": [
            "chkpt directory: ./drive/My Drive/Colab Notebooks/RecSys/chkpt/VAE_anneal200.0K_cap3.2E-01/I-600-200-600-I\n"
          ],
          "name": "stdout"
        }
      ]
    },
    {
      "cell_type": "code",
      "metadata": {
        "id": "c3qfLCBKL15n",
        "colab_type": "code",
        "colab": {}
      },
      "source": [
        "n_epochs = 100"
      ],
      "execution_count": null,
      "outputs": []
    },
    {
      "cell_type": "code",
      "metadata": {
        "id": "Pm-N5RwBwj5J",
        "colab_type": "code",
        "colab": {}
      },
      "source": [
        "song_df = pd.read_csv(os.path.join(output_dir, 'song_df.csv'))"
      ],
      "execution_count": null,
      "outputs": []
    },
    {
      "cell_type": "code",
      "metadata": {
        "id": "IrYOuWFqD2ja",
        "colab_type": "code",
        "colab": {}
      },
      "source": [
        "ndcgs_vad = []\n",
        "\n",
        "idxlist = list(idxlist)\n",
        "idxlist_vad = list(idxlist_vad)\n",
        "\n",
        "with tf.Session() as sess:\n",
        "\n",
        "    init = tf.global_variables_initializer()\n",
        "    sess.run(init)\n",
        "\n",
        "    best_ndcg = -np.inf\n",
        "\n",
        "    update_count = 0.0\n",
        "    print(data_type)\n",
        "    print(beta_type)\n",
        "    for epoch in tqdm(range(n_epochs)):\n",
        "        print('epoch: {}'.format(epoch))\n",
        "        np.random.shuffle(idxlist)\n",
        "        # train for one epoch\n",
        "        for bnum, st_idx in enumerate(range(0, N, batch_size)):\n",
        "            end_idx = min(st_idx + batch_size, N)\n",
        "            X = train_data[idxlist[st_idx:end_idx]]\n",
        "\n",
        "            # Add extra info:\n",
        "            if data_type == \"with_side_info\":\n",
        "              song_sm = sparse.csr_matrix(np.array(song_df.transpose()))\n",
        "              X = scipy.sparse.vstack([X,song_sm])\n",
        "            \n",
        "            if sparse.isspmatrix(X):\n",
        "                X = X.toarray()\n",
        "            X = X.astype('float32')\n",
        "            \n",
        "            if beta_type == \"annealing\":\n",
        "              if total_anneal_steps > 0:\n",
        "                  anneal = min(anneal_cap, 1. * update_count / total_anneal_steps)\n",
        "              else:\n",
        "                  anneal = anneal_cap\n",
        "\n",
        "            else:\n",
        "\n",
        "              # Beta:\n",
        "              norm = X.sum(axis=-1)\n",
        "              anneal = gamma * norm\n",
        "\n",
        "            \n",
        "            feed_dict = {vae.input_ph: X, \n",
        "                          vae.keep_prob_ph: 0.5, \n",
        "                          vae.anneal_ph: anneal,\n",
        "                          vae.is_training_ph: 1}     \n",
        "   \n",
        "            sess.run(train_op_var, feed_dict=feed_dict)\n",
        "            if bnum % 100 == 0:\n",
        "                summary_train = sess.run(merged_var, feed_dict=feed_dict)\n",
        "                summary_writer.add_summary(summary_train, \n",
        "                                           global_step=epoch * batches_per_epoch + bnum) \n",
        "            \n",
        "            update_count += 1\n",
        "        \n",
        "        # compute validation NDCG\n",
        "        ndcg_dist = []\n",
        "        for bnum, st_idx in enumerate(range(0, N_vad, batch_size_vad)):\n",
        "            end_idx = min(st_idx + batch_size_vad, N_vad)\n",
        "            X = vad_data_tr[idxlist_vad[st_idx:end_idx]]\n",
        "            shape = X.shape[0]\n",
        "\n",
        "            # Add extra info:\n",
        "            if data_type == \"with_side_info\":\n",
        "              song_sm = sparse.csr_matrix(np.array(song_df.transpose()))\n",
        "              X = scipy.sparse.vstack([X,song_sm])\n",
        "\n",
        "            if sparse.isspmatrix(X):\n",
        "                X = X.toarray()\n",
        "            X = X.astype('float32')\n",
        "       \n",
        "            pred_val = sess.run(logits_var, feed_dict={vae.input_ph: X} )\n",
        "            # exclude examples from training and validation (if any)\n",
        "            pred_val[X.nonzero()] = -np.inf\n",
        "            ndcg_dist.append(NDCG_binary_at_k_batch(pred_val[:shape], vad_data_te[idxlist_vad[st_idx:end_idx]]))\n",
        "        \n",
        "        ndcg_dist = np.concatenate(ndcg_dist)\n",
        "        ndcg_ = ndcg_dist.mean()\n",
        "        ndcgs_vad.append(ndcg_)\n",
        "        merged_valid_val = sess.run(merged_valid, feed_dict={ndcg_var: ndcg_, ndcg_dist_var: ndcg_dist})\n",
        "        summary_writer.add_summary(merged_valid_val, epoch)\n",
        "\n",
        "        # update the best model (if necessary)\n",
        "        if ndcg_ > best_ndcg:\n",
        "            saver.save(sess, '{}/model'.format(chkpt_dir))\n",
        "            best_ndcg = ndcg_"
      ],
      "execution_count": null,
      "outputs": []
    },
    {
      "cell_type": "code",
      "metadata": {
        "id": "F8GzMwVQ7e11",
        "colab_type": "code",
        "colab": {
          "base_uri": "https://localhost:8080/",
          "height": 230
        },
        "outputId": "b6540aa6-7d36-4abe-e402-c3c4beaba4da"
      },
      "source": [
        "plt.figure(figsize=(12, 3))\n",
        "plt.plot(ndcgs_vad)\n",
        "plt.ylabel(\"Validation NDCG@100\")\n",
        "plt.xlabel(\"Epochs\")\n",
        "pass"
      ],
      "execution_count": null,
      "outputs": [
        {
          "output_type": "display_data",
          "data": {
            "image/png": "[encoded data removed]",
            "text/plain": [
              "<Figure size 864x216 with 1 Axes>"
            ]
          },
          "metadata": {
            "tags": [],
            "needs_background": "light"
          }
        }
      ]
    },
    {
      "cell_type": "markdown",
      "metadata": {
        "id": "BQKUFs50L15u",
        "colab_type": "text"
      },
      "source": [
        "### Perdict and Evaluate"
      ]
    },
    {
      "cell_type": "code",
      "metadata": {
        "id": "5KCy8USkL15u",
        "colab_type": "code",
        "colab": {}
      },
      "source": [
        "test_data_tr, test_data_te = load_tr_te_data(\n",
        "    os.path.join(output_dir, 'test_tr.csv'),\n",
        "    os.path.join(output_dir, 'test_te.csv'), user_id=user_id, item_id=item_id, n_items=n_items)"
      ],
      "execution_count": null,
      "outputs": []
    },
    {
      "cell_type": "code",
      "metadata": {
        "id": "lZe9X8D_L15z",
        "colab_type": "code",
        "colab": {}
      },
      "source": [
        "N_test = test_data_tr.shape[0]\n",
        "idxlist_test = range(N_test)\n",
        "\n",
        "batch_size_test = 2000"
      ],
      "execution_count": null,
      "outputs": []
    },
    {
      "cell_type": "code",
      "metadata": {
        "id": "s-iSqoEOL153",
        "colab_type": "code",
        "colab": {
          "base_uri": "https://localhost:8080/",
          "height": 34
        },
        "outputId": "7377c672-8cd3-49b0-aafa-5007d65ca1d9"
      },
      "source": [
        "tf.reset_default_graph()\n",
        "vae = MultiVAE(p_dims, lam=0.0)\n",
        "saver, logits_var, _, _, _ = vae.build_graph()    "
      ],
      "execution_count": null,
      "outputs": [
        {
          "output_type": "stream",
          "text": [
            "INFO:tensorflow:Scale of 0 disables regularizer.\n"
          ],
          "name": "stdout"
        }
      ]
    },
    {
      "cell_type": "code",
      "metadata": {
        "id": "ytiC5YfGL155",
        "colab_type": "code",
        "colab": {
          "base_uri": "https://localhost:8080/",
          "height": 34
        },
        "outputId": "af6b1d69-9bdb-40ba-9566-5042616861b8"
      },
      "source": [
        "# Load the best performing model on the validation set:\n",
        "chkpt_dir = PROJ_DIR + 'chkpt/VAE_anneal{}K_cap{:1.1E}/{}'.format(\n",
        "    total_anneal_steps/1000, anneal_cap, arch_str)\n",
        "print(\"chkpt directory: %s\" % chkpt_dir)"
      ],
      "execution_count": null,
      "outputs": [
        {
          "output_type": "stream",
          "text": [
            "chkpt directory: ./drive/My Drive/Colab Notebooks/RecSys/chkpt/VAE_anneal200.0K_cap3.2E-01/I-600-200-600-I\n"
          ],
          "name": "stdout"
        }
      ]
    },
    {
      "cell_type": "code",
      "metadata": {
        "id": "nUhQ8OQML158",
        "colab_type": "code",
        "colab": {
          "base_uri": "https://localhost:8080/",
          "height": 34
        },
        "outputId": "2ff3f0d6-a296-4a81-a4ee-506500891f9d"
      },
      "source": [
        "# Predict and Eval:\n",
        "n100_list, r20_list, r50_list = [], [], []\n",
        "\n",
        "with tf.Session() as sess:\n",
        "    saver.restore(sess, '{}/model'.format(chkpt_dir))\n",
        "\n",
        "    for bnum, st_idx in enumerate(range(0, N_test, batch_size_test)):\n",
        "        end_idx = min(st_idx + batch_size_test, N_test)\n",
        "        X = test_data_tr[idxlist_test[st_idx:end_idx]]\n",
        "        shape = X.shape[0]\n",
        "\n",
        "        # Add extra info:\n",
        "        if data_type == \"with_side_info\":\n",
        "            song_sm = sparse.csr_matrix(np.array(song_df.transpose()))\n",
        "            X = scipy.sparse.vstack([X,song_sm])\n",
        "\n",
        "        if sparse.isspmatrix(X):\n",
        "            X = X.toarray()\n",
        "        X = X.astype('float32')\n",
        "\n",
        "        pred_val = sess.run(logits_var, feed_dict={vae.input_ph: X})\n",
        "        # exclude examples from training and validation (if any)\n",
        "        pred_val[X.nonzero()] = -np.inf\n",
        "        n100_list.append(NDCG_binary_at_k_batch(pred_val[:shape], test_data_te[idxlist_test[st_idx:end_idx]], k=100))\n",
        "        r20_list.append(Recall_at_k_batch(pred_val[:shape], test_data_te[idxlist_test[st_idx:end_idx]], k=20))\n",
        "        r50_list.append(Recall_at_k_batch(pred_val[:shape], test_data_te[idxlist_test[st_idx:end_idx]], k=50))\n",
        "    \n",
        "n100_list = np.concatenate(n100_list)\n",
        "r20_list = np.concatenate(r20_list)\n",
        "r50_list = np.concatenate(r50_list)"
      ],
      "execution_count": null,
      "outputs": [
        {
          "output_type": "stream",
          "text": [
            "INFO:tensorflow:Restoring parameters from ./drive/My Drive/Colab Notebooks/RecSys/chkpt/VAE_anneal200.0K_cap3.2E-01/I-600-200-600-I/model\n"
          ],
          "name": "stdout"
        }
      ]
    },
    {
      "cell_type": "code",
      "metadata": {
        "id": "1wloY3zcUubm",
        "colab_type": "code",
        "colab": {
          "base_uri": "https://localhost:8080/",
          "height": 67
        },
        "outputId": "02b9810a-df6a-4ab3-936d-5c0b4ef39ce1"
      },
      "source": [
        "# Results for best model:\n",
        "print(\"Test NDCG@100=%.5f (%.5f)\" % (np.mean(n100_list), np.std(n100_list) / np.sqrt(len(n100_list))))\n",
        "print(\"Test Recall@20=%.5f (%.5f)\" % (np.mean(r20_list), np.std(r20_list) / np.sqrt(len(r20_list))))\n",
        "print(\"Test Recall@50=%.5f (%.5f)\" % (np.mean(r50_list), np.std(r50_list) / np.sqrt(len(r50_list))))"
      ],
      "execution_count": null,
      "outputs": [
        {
          "output_type": "stream",
          "text": [
            "Test NDCG@100=0.31700 (0.00099)\n",
            "Test Recall@20=0.26628 (0.00104)\n",
            "Test Recall@50=0.36554 (0.00114)\n"
          ],
          "name": "stdout"
        }
      ]
    }
  ]
}